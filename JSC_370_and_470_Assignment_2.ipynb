{
  "nbformat": 4,
  "nbformat_minor": 0,
  "metadata": {
    "colab": {
      "name": "JSC 370 and 470 Assignment 2.ipynb",
      "provenance": [],
      "collapsed_sections": []
    },
    "kernelspec": {
      "name": "python3",
      "display_name": "Python 3"
    },
    "accelerator": "GPU"
  },
  "cells": [
    {
      "cell_type": "markdown",
      "metadata": {
        "id": "Doliaj3FUW0Y"
      },
      "source": [
        "# JSC Assignment 2: Soccer!\n",
        "\n",
        "In this scenario, you're designing a decision-support tool for coaches and managers of soccer teams.  The goal is to make a demo that shows what kinds of insights are possible using this dataset.\n",
        "\n",
        "\n",
        "\n",
        "## Questions your report should answer:\n",
        "\n",
        "### What value you could add with this data?  For example:\n",
        " - Support coaches in giving feedback,\n",
        " - Identify which players are over-performing or under-performing\n",
        " - Help understand trends in the game.\n",
        "\n",
        "### How will you measure success?  Identify:\n",
        " - What the ultimate goal is, even if it's hard to measure (better soccer playing? more entertaining soccer? saving money on player salaries?) Suggestion:  Try to determine how coaches are judged.\n",
        " - Suggest some proxies of that that are easier to quantify, e.g. games won, goals scored, ad money.\n",
        " - Say how you'll chose your models (e.g. predictive accuracy)\n",
        " - Say what loss you'll use to train your model (e.g. log-likelihood)\n",
        "\n",
        "### Look at the data.\n",
        "  - Try to find outliers / problems in data.\n",
        "  - Give a sense of the amount of relevant data you have to support each prediction.  How many shots per player are in the database?\n",
        "  - Look for signs of saturation / overly-coarse data.  What could we expect to do better with finer-grained data?\n",
        "\n",
        "### Brainstorm complementary sources of data.\n",
        "  - E.g. More detailed information about players, video, commentaries.\n",
        "\n",
        "### Brainstorm a comprehensive list of factors that could affect the recorded data.\n",
        "  - What are all the factors that could conceivably influence the recorded outcomes?  E.g. bad calls by refs, games being cancelled, bad teams dropping out of tournaments, mislabeling do to similar jersey numbers, medical conditions of the players, synergy between teammates...\n",
        "  - This section just needs to be a list of all the factors that we might conceivably want to model or know in order to improve our predictions.  The purpose is to make sure that when you're making your model, you're keeping in mind what a limited representation it is of a complicated reality.  10-20 factors should be sufficient.  This doesn't have to be a formal model.\n",
        "\n",
        "### Propose a model staircase (series of more sophisticated models)\n",
        "  \n",
        "  - You don't have to implement every model you propose!\n",
        "  - It doesn't have to be a strict staircase (each model doesn't have to incorporate the one before it).\n",
        "  - You can propose models that you don't know how to implement.\n",
        "  - Ideally, differences between results will make it clear which inputs / parts of the model are important.\n",
        "  - You need to implement as many model refinements or variants as there are members of your group.\n",
        "  - Suggested variants:\n",
        "      - Adapting training to handle imbalanced data.\n",
        "      - Look up timestamps of games and investigate trends. What things are changing over time, or depend on seasons?\n",
        "      - Use a neural net (or other model) instead of logistic regression.\n",
        "      - Add a latent variable per-player, and examing the latent vectors.\n",
        "\n",
        "### Attempt to explain the model\n",
        "  - Investigate which features were important.\n",
        "  - Make only true and meaningful statements, even if they are vague.  E.g. in a logistic regression model, if a coefficient is positive, you could say that \"According to the model, if all else is held fixed, but this feature is higher, the probability of a goal will be higher.\"\n",
        "  - State the main results of your model in relatively plain language.\n",
        "  - Include one or two sanity checks, e.g. that accuracy is lower for players with few shots, or shots from far away are less likely to succeed.\n",
        "\n",
        "### Report evidence it works, expected value added, conditions for accurate use.\n",
        "  - Spell out what question the model is answering.\n",
        "  - Spell out what question your train/test splits were answering.  Should correspond to how to shuffled + split the data when training.\n",
        "  - Make improvement clear in terms of your metrics over some baseline.  E.g. \"our best model has x% lower recall than simply guessing the mean\".\n",
        "  - Make a link between your improvement of this metric and some metric that a decision-maker might care about.  E.g. \"X% of games are lost by one goal, so replacing one underperforming player with one with median performance will lead to Y more games won per season on average\".  It's OK to estimate numbers, just make it clear where you're doing so.\n",
        "  - Make statements about what would increase or decrease the accuracy of the model over time.  E.g. many new players would hurt accuracy.\n",
        "\n",
        "Assignments will be graded according to [these rubrics](https://jsc370.github.io/2020/assignment_rubrics.html)"
      ]
    },
    {
      "cell_type": "code",
      "metadata": {
        "colab": {
          "base_uri": "https://localhost:8080/"
        },
        "id": "4_l8Gb6PKvl3",
        "outputId": "b39f6fc2-cd34-4a5b-ace9-69114b646b63"
      },
      "source": [
        "# Data originally from https://www.kaggle.com/secareanualin/football-events\n",
        "# Related analysis at https://www.kaggle.com/gabrielmanfredi/expected-goals-player-analysis\n",
        "\n",
        "!wget https://jsc370.github.io/events.csv.zip\n",
        "!unzip events.csv.zip\n",
        "\n",
        "!wget https://jsc370.github.io/ginf.csv.zip\n",
        "!unzip ginf.csv.zip\n",
        "\n",
        "!wget https://jsc370.github.io/dictionary.txt\n"
      ],
      "execution_count": 1,
      "outputs": [
        {
          "output_type": "stream",
          "text": [
            "--2021-02-06 05:27:54--  https://jsc370.github.io/events.csv.zip\n",
            "Resolving jsc370.github.io (jsc370.github.io)... 185.199.108.153, 185.199.109.153, 185.199.110.153, ...\n",
            "Connecting to jsc370.github.io (jsc370.github.io)|185.199.108.153|:443... connected.\n",
            "HTTP request sent, awaiting response... 200 OK\n",
            "Length: 21797089 (21M) [application/zip]\n",
            "Saving to: ‘events.csv.zip.8’\n",
            "\n",
            "\revents.csv.zip.8      0%[                    ]       0  --.-KB/s               \revents.csv.zip.8    100%[===================>]  20.79M  --.-KB/s    in 0.09s   \n",
            "\n",
            "2021-02-06 05:27:54 (232 MB/s) - ‘events.csv.zip.8’ saved [21797089/21797089]\n",
            "\n",
            "Archive:  events.csv.zip\n",
            "replace events.csv? [y]es, [n]o, [A]ll, [N]one, [r]ename: n\n",
            "--2021-02-06 05:28:02--  https://jsc370.github.io/ginf.csv.zip\n",
            "Resolving jsc370.github.io (jsc370.github.io)... 185.199.108.153, 185.199.109.153, 185.199.110.153, ...\n",
            "Connecting to jsc370.github.io (jsc370.github.io)|185.199.108.153|:443... connected.\n",
            "HTTP request sent, awaiting response... 200 OK\n",
            "Length: 344339 (336K) [application/zip]\n",
            "Saving to: ‘ginf.csv.zip.3’\n",
            "\n",
            "ginf.csv.zip.3      100%[===================>] 336.27K  --.-KB/s    in 0.004s  \n",
            "\n",
            "2021-02-06 05:28:02 (73.6 MB/s) - ‘ginf.csv.zip.3’ saved [344339/344339]\n",
            "\n",
            "Archive:  ginf.csv.zip\n",
            "replace ginf.csv? [y]es, [n]o, [A]ll, [N]one, [r]ename: n\n",
            "--2021-02-06 05:28:04--  https://jsc370.github.io/dictionary.txt\n",
            "Resolving jsc370.github.io (jsc370.github.io)... 185.199.108.153, 185.199.109.153, 185.199.110.153, ...\n",
            "Connecting to jsc370.github.io (jsc370.github.io)|185.199.108.153|:443... connected.\n",
            "HTTP request sent, awaiting response... 200 OK\n",
            "Length: 1306 (1.3K) [text/plain]\n",
            "Saving to: ‘dictionary.txt.3’\n",
            "\n",
            "dictionary.txt.3    100%[===================>]   1.28K  --.-KB/s    in 0s      \n",
            "\n",
            "2021-02-06 05:28:05 (85.2 MB/s) - ‘dictionary.txt.3’ saved [1306/1306]\n",
            "\n"
          ],
          "name": "stdout"
        }
      ]
    },
    {
      "cell_type": "code",
      "metadata": {
        "id": "fgNEkfwctR6Q"
      },
      "source": [
        "import pandas as pd\r\n",
        "import jax.numpy as np\r\n",
        "import matplotlib.pyplot as plt\r\n",
        "import seaborn as sns\r\n",
        "from sklearn.model_selection import train_test_split\r\n",
        "from sklearn.metrics import accuracy_score, classification_report, confusion_matrix\r\n",
        "\r\n",
        "\r\n",
        "import jax.numpy as jnp\r\n",
        "import numpy.random as npr\r\n",
        "from jax.api import jit, grad"
      ],
      "execution_count": 2,
      "outputs": []
    },
    {
      "cell_type": "code",
      "metadata": {
        "id": "YokE1yactThk"
      },
      "source": [
        "events = pd.read_csv('events.csv')\r\n",
        "info = pd.read_csv('ginf.csv')"
      ],
      "execution_count": 3,
      "outputs": []
    },
    {
      "cell_type": "code",
      "metadata": {
        "id": "2aHer2MLtvbi",
        "colab": {
          "base_uri": "https://localhost:8080/",
          "height": 621
        },
        "outputId": "41247f03-39c3-4df1-d6f9-068a5c817f22"
      },
      "source": [
        "events.head()"
      ],
      "execution_count": 4,
      "outputs": [
        {
          "output_type": "execute_result",
          "data": {
            "text/html": [
              "<div>\n",
              "<style scoped>\n",
              "    .dataframe tbody tr th:only-of-type {\n",
              "        vertical-align: middle;\n",
              "    }\n",
              "\n",
              "    .dataframe tbody tr th {\n",
              "        vertical-align: top;\n",
              "    }\n",
              "\n",
              "    .dataframe thead th {\n",
              "        text-align: right;\n",
              "    }\n",
              "</style>\n",
              "<table border=\"1\" class=\"dataframe\">\n",
              "  <thead>\n",
              "    <tr style=\"text-align: right;\">\n",
              "      <th></th>\n",
              "      <th>id_odsp</th>\n",
              "      <th>id_event</th>\n",
              "      <th>sort_order</th>\n",
              "      <th>time</th>\n",
              "      <th>text</th>\n",
              "      <th>event_type</th>\n",
              "      <th>event_type2</th>\n",
              "      <th>side</th>\n",
              "      <th>event_team</th>\n",
              "      <th>opponent</th>\n",
              "      <th>player</th>\n",
              "      <th>player2</th>\n",
              "      <th>player_in</th>\n",
              "      <th>player_out</th>\n",
              "      <th>shot_place</th>\n",
              "      <th>shot_outcome</th>\n",
              "      <th>is_goal</th>\n",
              "      <th>location</th>\n",
              "      <th>bodypart</th>\n",
              "      <th>assist_method</th>\n",
              "      <th>situation</th>\n",
              "      <th>fast_break</th>\n",
              "    </tr>\n",
              "  </thead>\n",
              "  <tbody>\n",
              "    <tr>\n",
              "      <th>0</th>\n",
              "      <td>UFot0hit/</td>\n",
              "      <td>UFot0hit1</td>\n",
              "      <td>1</td>\n",
              "      <td>2</td>\n",
              "      <td>Attempt missed. Mladen Petric (Hamburg) left f...</td>\n",
              "      <td>1</td>\n",
              "      <td>12.0</td>\n",
              "      <td>2</td>\n",
              "      <td>Hamburg SV</td>\n",
              "      <td>Borussia Dortmund</td>\n",
              "      <td>mladen petric</td>\n",
              "      <td>gokhan tore</td>\n",
              "      <td>NaN</td>\n",
              "      <td>NaN</td>\n",
              "      <td>6.0</td>\n",
              "      <td>2.0</td>\n",
              "      <td>0</td>\n",
              "      <td>9.0</td>\n",
              "      <td>2.0</td>\n",
              "      <td>1</td>\n",
              "      <td>1.0</td>\n",
              "      <td>0</td>\n",
              "    </tr>\n",
              "    <tr>\n",
              "      <th>1</th>\n",
              "      <td>UFot0hit/</td>\n",
              "      <td>UFot0hit2</td>\n",
              "      <td>2</td>\n",
              "      <td>4</td>\n",
              "      <td>Corner,  Borussia Dortmund. Conceded by Dennis...</td>\n",
              "      <td>2</td>\n",
              "      <td>NaN</td>\n",
              "      <td>1</td>\n",
              "      <td>Borussia Dortmund</td>\n",
              "      <td>Hamburg SV</td>\n",
              "      <td>dennis diekmeier</td>\n",
              "      <td>dennis diekmeier</td>\n",
              "      <td>NaN</td>\n",
              "      <td>NaN</td>\n",
              "      <td>NaN</td>\n",
              "      <td>NaN</td>\n",
              "      <td>0</td>\n",
              "      <td>NaN</td>\n",
              "      <td>NaN</td>\n",
              "      <td>0</td>\n",
              "      <td>NaN</td>\n",
              "      <td>0</td>\n",
              "    </tr>\n",
              "    <tr>\n",
              "      <th>2</th>\n",
              "      <td>UFot0hit/</td>\n",
              "      <td>UFot0hit3</td>\n",
              "      <td>3</td>\n",
              "      <td>4</td>\n",
              "      <td>Corner,  Borussia Dortmund. Conceded by Heiko ...</td>\n",
              "      <td>2</td>\n",
              "      <td>NaN</td>\n",
              "      <td>1</td>\n",
              "      <td>Borussia Dortmund</td>\n",
              "      <td>Hamburg SV</td>\n",
              "      <td>heiko westermann</td>\n",
              "      <td>heiko westermann</td>\n",
              "      <td>NaN</td>\n",
              "      <td>NaN</td>\n",
              "      <td>NaN</td>\n",
              "      <td>NaN</td>\n",
              "      <td>0</td>\n",
              "      <td>NaN</td>\n",
              "      <td>NaN</td>\n",
              "      <td>0</td>\n",
              "      <td>NaN</td>\n",
              "      <td>0</td>\n",
              "    </tr>\n",
              "    <tr>\n",
              "      <th>3</th>\n",
              "      <td>UFot0hit/</td>\n",
              "      <td>UFot0hit4</td>\n",
              "      <td>4</td>\n",
              "      <td>7</td>\n",
              "      <td>Foul by Sven Bender (Borussia Dortmund).</td>\n",
              "      <td>3</td>\n",
              "      <td>NaN</td>\n",
              "      <td>1</td>\n",
              "      <td>Borussia Dortmund</td>\n",
              "      <td>Hamburg SV</td>\n",
              "      <td>sven bender</td>\n",
              "      <td>NaN</td>\n",
              "      <td>NaN</td>\n",
              "      <td>NaN</td>\n",
              "      <td>NaN</td>\n",
              "      <td>NaN</td>\n",
              "      <td>0</td>\n",
              "      <td>NaN</td>\n",
              "      <td>NaN</td>\n",
              "      <td>0</td>\n",
              "      <td>NaN</td>\n",
              "      <td>0</td>\n",
              "    </tr>\n",
              "    <tr>\n",
              "      <th>4</th>\n",
              "      <td>UFot0hit/</td>\n",
              "      <td>UFot0hit5</td>\n",
              "      <td>5</td>\n",
              "      <td>7</td>\n",
              "      <td>Gokhan Tore (Hamburg) wins a free kick in the ...</td>\n",
              "      <td>8</td>\n",
              "      <td>NaN</td>\n",
              "      <td>2</td>\n",
              "      <td>Hamburg SV</td>\n",
              "      <td>Borussia Dortmund</td>\n",
              "      <td>gokhan tore</td>\n",
              "      <td>NaN</td>\n",
              "      <td>NaN</td>\n",
              "      <td>NaN</td>\n",
              "      <td>NaN</td>\n",
              "      <td>NaN</td>\n",
              "      <td>0</td>\n",
              "      <td>2.0</td>\n",
              "      <td>NaN</td>\n",
              "      <td>0</td>\n",
              "      <td>NaN</td>\n",
              "      <td>0</td>\n",
              "    </tr>\n",
              "  </tbody>\n",
              "</table>\n",
              "</div>"
            ],
            "text/plain": [
              "     id_odsp   id_event  sort_order  ...  assist_method situation  fast_break\n",
              "0  UFot0hit/  UFot0hit1           1  ...              1       1.0           0\n",
              "1  UFot0hit/  UFot0hit2           2  ...              0       NaN           0\n",
              "2  UFot0hit/  UFot0hit3           3  ...              0       NaN           0\n",
              "3  UFot0hit/  UFot0hit4           4  ...              0       NaN           0\n",
              "4  UFot0hit/  UFot0hit5           5  ...              0       NaN           0\n",
              "\n",
              "[5 rows x 22 columns]"
            ]
          },
          "metadata": {
            "tags": []
          },
          "execution_count": 4
        }
      ]
    },
    {
      "cell_type": "code",
      "metadata": {
        "id": "oGGP7Qo-FCpT",
        "colab": {
          "base_uri": "https://localhost:8080/"
        },
        "outputId": "6c966f7e-94b1-46ca-f421-5008c5508b88"
      },
      "source": [
        "events.shape"
      ],
      "execution_count": 5,
      "outputs": [
        {
          "output_type": "execute_result",
          "data": {
            "text/plain": [
              "(941009, 22)"
            ]
          },
          "metadata": {
            "tags": []
          },
          "execution_count": 5
        }
      ]
    },
    {
      "cell_type": "code",
      "metadata": {
        "id": "eQtWK09sDDSV",
        "colab": {
          "base_uri": "https://localhost:8080/",
          "height": 395
        },
        "outputId": "e4dee412-02b9-43ad-d01f-b845303a2ad2"
      },
      "source": [
        "info.head()"
      ],
      "execution_count": 6,
      "outputs": [
        {
          "output_type": "execute_result",
          "data": {
            "text/html": [
              "<div>\n",
              "<style scoped>\n",
              "    .dataframe tbody tr th:only-of-type {\n",
              "        vertical-align: middle;\n",
              "    }\n",
              "\n",
              "    .dataframe tbody tr th {\n",
              "        vertical-align: top;\n",
              "    }\n",
              "\n",
              "    .dataframe thead th {\n",
              "        text-align: right;\n",
              "    }\n",
              "</style>\n",
              "<table border=\"1\" class=\"dataframe\">\n",
              "  <thead>\n",
              "    <tr style=\"text-align: right;\">\n",
              "      <th></th>\n",
              "      <th>id_odsp</th>\n",
              "      <th>link_odsp</th>\n",
              "      <th>adv_stats</th>\n",
              "      <th>date</th>\n",
              "      <th>league</th>\n",
              "      <th>season</th>\n",
              "      <th>country</th>\n",
              "      <th>ht</th>\n",
              "      <th>at</th>\n",
              "      <th>fthg</th>\n",
              "      <th>ftag</th>\n",
              "      <th>odd_h</th>\n",
              "      <th>odd_d</th>\n",
              "      <th>odd_a</th>\n",
              "      <th>odd_over</th>\n",
              "      <th>odd_under</th>\n",
              "      <th>odd_bts</th>\n",
              "      <th>odd_bts_n</th>\n",
              "    </tr>\n",
              "  </thead>\n",
              "  <tbody>\n",
              "    <tr>\n",
              "      <th>0</th>\n",
              "      <td>UFot0hit/</td>\n",
              "      <td>/soccer/germany/bundesliga-2011-2012/dortmund-...</td>\n",
              "      <td>True</td>\n",
              "      <td>2011-08-05</td>\n",
              "      <td>D1</td>\n",
              "      <td>2012</td>\n",
              "      <td>germany</td>\n",
              "      <td>Borussia Dortmund</td>\n",
              "      <td>Hamburg SV</td>\n",
              "      <td>3</td>\n",
              "      <td>1</td>\n",
              "      <td>1.56</td>\n",
              "      <td>4.41</td>\n",
              "      <td>7.42</td>\n",
              "      <td>NaN</td>\n",
              "      <td>NaN</td>\n",
              "      <td>NaN</td>\n",
              "      <td>NaN</td>\n",
              "    </tr>\n",
              "    <tr>\n",
              "      <th>1</th>\n",
              "      <td>Aw5DflLH/</td>\n",
              "      <td>/soccer/germany/bundesliga-2011-2012/augsburg-...</td>\n",
              "      <td>True</td>\n",
              "      <td>2011-08-06</td>\n",
              "      <td>D1</td>\n",
              "      <td>2012</td>\n",
              "      <td>germany</td>\n",
              "      <td>FC Augsburg</td>\n",
              "      <td>SC Freiburg</td>\n",
              "      <td>2</td>\n",
              "      <td>2</td>\n",
              "      <td>2.36</td>\n",
              "      <td>3.60</td>\n",
              "      <td>3.40</td>\n",
              "      <td>NaN</td>\n",
              "      <td>NaN</td>\n",
              "      <td>NaN</td>\n",
              "      <td>NaN</td>\n",
              "    </tr>\n",
              "    <tr>\n",
              "      <th>2</th>\n",
              "      <td>bkjpaC6n/</td>\n",
              "      <td>/soccer/germany/bundesliga-2011-2012/werder-br...</td>\n",
              "      <td>True</td>\n",
              "      <td>2011-08-06</td>\n",
              "      <td>D1</td>\n",
              "      <td>2012</td>\n",
              "      <td>germany</td>\n",
              "      <td>Werder Bremen</td>\n",
              "      <td>Kaiserslautern</td>\n",
              "      <td>2</td>\n",
              "      <td>0</td>\n",
              "      <td>1.83</td>\n",
              "      <td>4.20</td>\n",
              "      <td>4.80</td>\n",
              "      <td>NaN</td>\n",
              "      <td>NaN</td>\n",
              "      <td>NaN</td>\n",
              "      <td>NaN</td>\n",
              "    </tr>\n",
              "    <tr>\n",
              "      <th>3</th>\n",
              "      <td>CzPV312a/</td>\n",
              "      <td>/soccer/france/ligue-1-2011-2012/paris-sg-lori...</td>\n",
              "      <td>True</td>\n",
              "      <td>2011-08-06</td>\n",
              "      <td>F1</td>\n",
              "      <td>2012</td>\n",
              "      <td>france</td>\n",
              "      <td>Paris Saint-Germain</td>\n",
              "      <td>Lorient</td>\n",
              "      <td>0</td>\n",
              "      <td>1</td>\n",
              "      <td>1.55</td>\n",
              "      <td>4.50</td>\n",
              "      <td>9.40</td>\n",
              "      <td>NaN</td>\n",
              "      <td>NaN</td>\n",
              "      <td>NaN</td>\n",
              "      <td>NaN</td>\n",
              "    </tr>\n",
              "    <tr>\n",
              "      <th>4</th>\n",
              "      <td>GUOdmtII/</td>\n",
              "      <td>/soccer/france/ligue-1-2011-2012/caen-valencie...</td>\n",
              "      <td>True</td>\n",
              "      <td>2011-08-06</td>\n",
              "      <td>F1</td>\n",
              "      <td>2012</td>\n",
              "      <td>france</td>\n",
              "      <td>Caen</td>\n",
              "      <td>Valenciennes</td>\n",
              "      <td>1</td>\n",
              "      <td>0</td>\n",
              "      <td>2.50</td>\n",
              "      <td>3.40</td>\n",
              "      <td>3.45</td>\n",
              "      <td>NaN</td>\n",
              "      <td>NaN</td>\n",
              "      <td>NaN</td>\n",
              "      <td>NaN</td>\n",
              "    </tr>\n",
              "  </tbody>\n",
              "</table>\n",
              "</div>"
            ],
            "text/plain": [
              "     id_odsp  ... odd_bts_n\n",
              "0  UFot0hit/  ...       NaN\n",
              "1  Aw5DflLH/  ...       NaN\n",
              "2  bkjpaC6n/  ...       NaN\n",
              "3  CzPV312a/  ...       NaN\n",
              "4  GUOdmtII/  ...       NaN\n",
              "\n",
              "[5 rows x 18 columns]"
            ]
          },
          "metadata": {
            "tags": []
          },
          "execution_count": 6
        }
      ]
    },
    {
      "cell_type": "code",
      "metadata": {
        "id": "btEToPj5FSbb"
      },
      "source": [
        "# considering data from particular event ( \" 1 = Attempt to shot\")\r\n",
        "shots = events[events.event_type==1]"
      ],
      "execution_count": 7,
      "outputs": []
    },
    {
      "cell_type": "code",
      "metadata": {
        "id": "Pe83b2OyF7A9",
        "colab": {
          "base_uri": "https://localhost:8080/",
          "height": 673
        },
        "outputId": "dbb36d77-9f00-4398-b93f-a198cfbd253a"
      },
      "source": [
        "shots.head()"
      ],
      "execution_count": 8,
      "outputs": [
        {
          "output_type": "execute_result",
          "data": {
            "text/html": [
              "<div>\n",
              "<style scoped>\n",
              "    .dataframe tbody tr th:only-of-type {\n",
              "        vertical-align: middle;\n",
              "    }\n",
              "\n",
              "    .dataframe tbody tr th {\n",
              "        vertical-align: top;\n",
              "    }\n",
              "\n",
              "    .dataframe thead th {\n",
              "        text-align: right;\n",
              "    }\n",
              "</style>\n",
              "<table border=\"1\" class=\"dataframe\">\n",
              "  <thead>\n",
              "    <tr style=\"text-align: right;\">\n",
              "      <th></th>\n",
              "      <th>id_odsp</th>\n",
              "      <th>id_event</th>\n",
              "      <th>sort_order</th>\n",
              "      <th>time</th>\n",
              "      <th>text</th>\n",
              "      <th>event_type</th>\n",
              "      <th>event_type2</th>\n",
              "      <th>side</th>\n",
              "      <th>event_team</th>\n",
              "      <th>opponent</th>\n",
              "      <th>player</th>\n",
              "      <th>player2</th>\n",
              "      <th>player_in</th>\n",
              "      <th>player_out</th>\n",
              "      <th>shot_place</th>\n",
              "      <th>shot_outcome</th>\n",
              "      <th>is_goal</th>\n",
              "      <th>location</th>\n",
              "      <th>bodypart</th>\n",
              "      <th>assist_method</th>\n",
              "      <th>situation</th>\n",
              "      <th>fast_break</th>\n",
              "    </tr>\n",
              "  </thead>\n",
              "  <tbody>\n",
              "    <tr>\n",
              "      <th>0</th>\n",
              "      <td>UFot0hit/</td>\n",
              "      <td>UFot0hit1</td>\n",
              "      <td>1</td>\n",
              "      <td>2</td>\n",
              "      <td>Attempt missed. Mladen Petric (Hamburg) left f...</td>\n",
              "      <td>1</td>\n",
              "      <td>12.0</td>\n",
              "      <td>2</td>\n",
              "      <td>Hamburg SV</td>\n",
              "      <td>Borussia Dortmund</td>\n",
              "      <td>mladen petric</td>\n",
              "      <td>gokhan tore</td>\n",
              "      <td>NaN</td>\n",
              "      <td>NaN</td>\n",
              "      <td>6.0</td>\n",
              "      <td>2.0</td>\n",
              "      <td>0</td>\n",
              "      <td>9.0</td>\n",
              "      <td>2.0</td>\n",
              "      <td>1</td>\n",
              "      <td>1.0</td>\n",
              "      <td>0</td>\n",
              "    </tr>\n",
              "    <tr>\n",
              "      <th>11</th>\n",
              "      <td>UFot0hit/</td>\n",
              "      <td>UFot0hit12</td>\n",
              "      <td>12</td>\n",
              "      <td>14</td>\n",
              "      <td>Attempt missed. Shinji Kagawa (Borussia Dortmu...</td>\n",
              "      <td>1</td>\n",
              "      <td>12.0</td>\n",
              "      <td>1</td>\n",
              "      <td>Borussia Dortmund</td>\n",
              "      <td>Hamburg SV</td>\n",
              "      <td>shinji kagawa</td>\n",
              "      <td>mario gotze</td>\n",
              "      <td>NaN</td>\n",
              "      <td>NaN</td>\n",
              "      <td>13.0</td>\n",
              "      <td>2.0</td>\n",
              "      <td>0</td>\n",
              "      <td>15.0</td>\n",
              "      <td>1.0</td>\n",
              "      <td>1</td>\n",
              "      <td>1.0</td>\n",
              "      <td>0</td>\n",
              "    </tr>\n",
              "    <tr>\n",
              "      <th>13</th>\n",
              "      <td>UFot0hit/</td>\n",
              "      <td>UFot0hit14</td>\n",
              "      <td>14</td>\n",
              "      <td>17</td>\n",
              "      <td>Goal!  Borussia Dortmund 1, Hamburg 0. Kevin G...</td>\n",
              "      <td>1</td>\n",
              "      <td>12.0</td>\n",
              "      <td>1</td>\n",
              "      <td>Borussia Dortmund</td>\n",
              "      <td>Hamburg SV</td>\n",
              "      <td>kevin grosskreutz</td>\n",
              "      <td>mario gotze</td>\n",
              "      <td>NaN</td>\n",
              "      <td>NaN</td>\n",
              "      <td>4.0</td>\n",
              "      <td>1.0</td>\n",
              "      <td>1</td>\n",
              "      <td>9.0</td>\n",
              "      <td>2.0</td>\n",
              "      <td>1</td>\n",
              "      <td>1.0</td>\n",
              "      <td>0</td>\n",
              "    </tr>\n",
              "    <tr>\n",
              "      <th>14</th>\n",
              "      <td>UFot0hit/</td>\n",
              "      <td>UFot0hit15</td>\n",
              "      <td>15</td>\n",
              "      <td>19</td>\n",
              "      <td>Attempt blocked. Mats Hummels (Borussia Dortmu...</td>\n",
              "      <td>1</td>\n",
              "      <td>NaN</td>\n",
              "      <td>1</td>\n",
              "      <td>Borussia Dortmund</td>\n",
              "      <td>Hamburg SV</td>\n",
              "      <td>mats hummels</td>\n",
              "      <td>NaN</td>\n",
              "      <td>NaN</td>\n",
              "      <td>NaN</td>\n",
              "      <td>2.0</td>\n",
              "      <td>3.0</td>\n",
              "      <td>0</td>\n",
              "      <td>15.0</td>\n",
              "      <td>1.0</td>\n",
              "      <td>0</td>\n",
              "      <td>1.0</td>\n",
              "      <td>0</td>\n",
              "    </tr>\n",
              "    <tr>\n",
              "      <th>17</th>\n",
              "      <td>UFot0hit/</td>\n",
              "      <td>UFot0hit18</td>\n",
              "      <td>18</td>\n",
              "      <td>20</td>\n",
              "      <td>Attempt blocked. Tomas Rincon (Hamburg) right ...</td>\n",
              "      <td>1</td>\n",
              "      <td>NaN</td>\n",
              "      <td>2</td>\n",
              "      <td>Hamburg SV</td>\n",
              "      <td>Borussia Dortmund</td>\n",
              "      <td>tomas rincon</td>\n",
              "      <td>NaN</td>\n",
              "      <td>NaN</td>\n",
              "      <td>NaN</td>\n",
              "      <td>2.0</td>\n",
              "      <td>3.0</td>\n",
              "      <td>0</td>\n",
              "      <td>15.0</td>\n",
              "      <td>1.0</td>\n",
              "      <td>0</td>\n",
              "      <td>1.0</td>\n",
              "      <td>0</td>\n",
              "    </tr>\n",
              "  </tbody>\n",
              "</table>\n",
              "</div>"
            ],
            "text/plain": [
              "      id_odsp    id_event  sort_order  ...  assist_method situation  fast_break\n",
              "0   UFot0hit/   UFot0hit1           1  ...              1       1.0           0\n",
              "11  UFot0hit/  UFot0hit12          12  ...              1       1.0           0\n",
              "13  UFot0hit/  UFot0hit14          14  ...              1       1.0           0\n",
              "14  UFot0hit/  UFot0hit15          15  ...              0       1.0           0\n",
              "17  UFot0hit/  UFot0hit18          18  ...              0       1.0           0\n",
              "\n",
              "[5 rows x 22 columns]"
            ]
          },
          "metadata": {
            "tags": []
          },
          "execution_count": 8
        }
      ]
    },
    {
      "cell_type": "code",
      "metadata": {
        "id": "7YJOCDh1GYrJ"
      },
      "source": [
        "# # one-hot encoding (binary representation of fature values)\r\n",
        "\r\n",
        "# data = pd.get_dummies(shots.iloc[:,-6:-1], columns=['location', 'bodypart','assist_method', 'situation'])\r\n",
        "# data.columns = ['fast_break', 'loc_centre_box', 'loc_diff_angle_lr', 'diff_angle_left', 'diff_angle_right',\r\n",
        "#                 'left_side_box', 'left_side_6ybox', 'right_side_box', 'right_side_6ybox', 'close_range',\r\n",
        "#                 'penalty', 'outside_box', 'long_range', 'more_35y', 'more_40y', 'not_recorded', 'right_foot', \r\n",
        "#                 'left_foot', 'header', 'no_assist', 'assist_pass', 'assist_cross', 'assist_header',\r\n",
        "#                 'assist_through_ball', 'open_play', 'set_piece', 'corner', 'free_kick']\r\n",
        "# data['is_goal'] = shots['is_goal']\r\n"
      ],
      "execution_count": 9,
      "outputs": []
    },
    {
      "cell_type": "code",
      "metadata": {
        "id": "Mrbkmq_8jz3f"
      },
      "source": [
        "# one-hot encoding (binary representation of fature values)\r\n",
        "\r\n",
        "data = pd.get_dummies(shots[[\"is_goal\",\"bodypart\",\"situation\"]], columns=['bodypart', 'situation'])\r\n",
        "data.columns =  ['is_goal','right_foot', 'left_foot', 'header', 'open_play', 'set_piece', 'corner', 'free_kick']\r\n",
        "\r\n"
      ],
      "execution_count": 10,
      "outputs": []
    },
    {
      "cell_type": "code",
      "metadata": {
        "id": "ZpFn6o6AIH_y",
        "colab": {
          "base_uri": "https://localhost:8080/",
          "height": 202
        },
        "outputId": "413955d6-3d94-418d-a368-813ce31f37a3"
      },
      "source": [
        "data.head()"
      ],
      "execution_count": 11,
      "outputs": [
        {
          "output_type": "execute_result",
          "data": {
            "text/html": [
              "<div>\n",
              "<style scoped>\n",
              "    .dataframe tbody tr th:only-of-type {\n",
              "        vertical-align: middle;\n",
              "    }\n",
              "\n",
              "    .dataframe tbody tr th {\n",
              "        vertical-align: top;\n",
              "    }\n",
              "\n",
              "    .dataframe thead th {\n",
              "        text-align: right;\n",
              "    }\n",
              "</style>\n",
              "<table border=\"1\" class=\"dataframe\">\n",
              "  <thead>\n",
              "    <tr style=\"text-align: right;\">\n",
              "      <th></th>\n",
              "      <th>is_goal</th>\n",
              "      <th>right_foot</th>\n",
              "      <th>left_foot</th>\n",
              "      <th>header</th>\n",
              "      <th>open_play</th>\n",
              "      <th>set_piece</th>\n",
              "      <th>corner</th>\n",
              "      <th>free_kick</th>\n",
              "    </tr>\n",
              "  </thead>\n",
              "  <tbody>\n",
              "    <tr>\n",
              "      <th>0</th>\n",
              "      <td>0</td>\n",
              "      <td>0</td>\n",
              "      <td>1</td>\n",
              "      <td>0</td>\n",
              "      <td>1</td>\n",
              "      <td>0</td>\n",
              "      <td>0</td>\n",
              "      <td>0</td>\n",
              "    </tr>\n",
              "    <tr>\n",
              "      <th>11</th>\n",
              "      <td>0</td>\n",
              "      <td>1</td>\n",
              "      <td>0</td>\n",
              "      <td>0</td>\n",
              "      <td>1</td>\n",
              "      <td>0</td>\n",
              "      <td>0</td>\n",
              "      <td>0</td>\n",
              "    </tr>\n",
              "    <tr>\n",
              "      <th>13</th>\n",
              "      <td>1</td>\n",
              "      <td>0</td>\n",
              "      <td>1</td>\n",
              "      <td>0</td>\n",
              "      <td>1</td>\n",
              "      <td>0</td>\n",
              "      <td>0</td>\n",
              "      <td>0</td>\n",
              "    </tr>\n",
              "    <tr>\n",
              "      <th>14</th>\n",
              "      <td>0</td>\n",
              "      <td>1</td>\n",
              "      <td>0</td>\n",
              "      <td>0</td>\n",
              "      <td>1</td>\n",
              "      <td>0</td>\n",
              "      <td>0</td>\n",
              "      <td>0</td>\n",
              "    </tr>\n",
              "    <tr>\n",
              "      <th>17</th>\n",
              "      <td>0</td>\n",
              "      <td>1</td>\n",
              "      <td>0</td>\n",
              "      <td>0</td>\n",
              "      <td>1</td>\n",
              "      <td>0</td>\n",
              "      <td>0</td>\n",
              "      <td>0</td>\n",
              "    </tr>\n",
              "  </tbody>\n",
              "</table>\n",
              "</div>"
            ],
            "text/plain": [
              "    is_goal  right_foot  left_foot  ...  set_piece  corner  free_kick\n",
              "0         0           0          1  ...          0       0          0\n",
              "11        0           1          0  ...          0       0          0\n",
              "13        1           0          1  ...          0       0          0\n",
              "14        0           1          0  ...          0       0          0\n",
              "17        0           1          0  ...          0       0          0\n",
              "\n",
              "[5 rows x 8 columns]"
            ]
          },
          "metadata": {
            "tags": []
          },
          "execution_count": 11
        }
      ]
    },
    {
      "cell_type": "code",
      "metadata": {
        "id": "ckHoIUCwGoM3",
        "colab": {
          "base_uri": "https://localhost:8080/"
        },
        "outputId": "543c4464-56ca-4c55-d18e-254edfe84d2c"
      },
      "source": [
        "print(len(data))\r\n",
        "print(data.is_goal.sum())\r\n",
        "print(len(data.columns)-1)"
      ],
      "execution_count": 12,
      "outputs": [
        {
          "output_type": "stream",
          "text": [
            "229135\n",
            "24441\n",
            "7\n"
          ],
          "name": "stdout"
        }
      ]
    },
    {
      "cell_type": "code",
      "metadata": {
        "id": "urT1MsIdKoaQ"
      },
      "source": [
        "# train test split and format data.\r\n",
        "X = data.drop([\"is_goal\"],axis =1)\r\n",
        "y = data[\"is_goal\"]\r\n",
        "X_train, X_test, y_train, y_test = train_test_split(X, y, test_size=0.2, random_state=1)\r\n",
        "X_train = np.float32(np.array(X_train))\r\n",
        "X_test = np.float32(np.array(X_test))\r\n",
        "y_train = np.float32(np.array(y_train))\r\n",
        "y_test = np.float32(np.array(y_test))\r\n",
        "\r\n",
        "c_train = np.ones((X_train.shape[0], 1))               # intercept \r\n",
        "X_train = np.concatenate((c_train, X_train), axis=1)   # Add intercept to the original feature set\r\n",
        "c_test = np.ones((X_test.shape[0], 1)) \r\n",
        "X_test = np.concatenate((c_test, X_test), axis=1)\r\n"
      ],
      "execution_count": 13,
      "outputs": []
    },
    {
      "cell_type": "code",
      "metadata": {
        "id": "zllcmAXBPyWi",
        "colab": {
          "base_uri": "https://localhost:8080/"
        },
        "outputId": "abdc2fdd-8451-47ba-9260-535a0e24cc20"
      },
      "source": [
        "# Simple logistic regression model.\r\n",
        "\r\n",
        "from jax.api import vmap   # Takes a function that operates on a single\r\n",
        "                           # example, and vectorizes it to work on a batch.\r\n",
        "\r\n",
        "epochs = 20\r\n",
        "learning_rate = 1.0\r\n",
        "\r\n",
        "theta = np.zeros(X_train.shape[1])       # initialize weights \r\n",
        "\r\n",
        "def sigmoid(z):\r\n",
        "  return 1.0 / (1.0 + np.exp(-z))\r\n",
        "\r\n",
        "def logreg_pred(params, X):\r\n",
        "  return sigmoid(np.dot(X, params))\r\n",
        "\r\n",
        "def log_bernoulli(y, p):\r\n",
        "  return np.mean(y * np.log(p) + (1.0 - y) * np.log(1.0 - p))\r\n",
        "\r\n",
        "def single_loss(params, X, y):\r\n",
        "  return -log_bernoulli(y, logreg_pred(params, X))\r\n",
        "\r\n",
        "def batch_loss(params, X, y):\r\n",
        "  vectorized_logprob = vmap(single_loss, (None, 0, 0))  # Vectorize over X and y.\r\n",
        "  return np.mean(vectorized_logprob(params, X, y))\r\n",
        "\r\n",
        "def accuracy(params, x, y):\r\n",
        "  pred = logreg_pred(params, x)\r\n",
        "  return 100.0 * np.mean(np.round(pred) == y)\r\n",
        "\r\n",
        "print(grad(batch_loss)(theta, X_train, y_train))\r\n",
        "\r\n",
        "train_loss = [] # loss history \r\n",
        "\r\n",
        "for i in range(epochs):\r\n",
        "  theta = theta - learning_rate * grad(batch_loss)(theta, X_train, y_train)\r\n",
        "  \r\n",
        "  loss_tr = batch_loss(theta, X_train, y_train)\r\n",
        "  train_loss.append(loss_tr)\r\n",
        "  train_accuracy = accuracy(theta, X_train, y_train)\r\n",
        "  test_accuracy = accuracy(theta, X_test, y_test)\r\n",
        "  print(i, loss_tr, np.mean(train_accuracy), np.mean(test_accuracy))\r\n"
      ],
      "execution_count": 14,
      "outputs": [
        {
          "output_type": "stream",
          "text": [
            "[0.39307082 0.20688951 0.12631471 0.05986646 0.34710723 0.00963406\n",
            " 0.02761745 0.00871211]\n",
            "0 0.44439882 89.30707 89.43854\n",
            "1 0.38095924 89.30707 89.43854\n",
            "2 0.3574914 89.30707 89.43854\n",
            "3 0.34678337 89.30707 89.43854\n",
            "4 0.34127116 89.30707 89.43854\n",
            "5 0.33819884 89.30707 89.43854\n",
            "6 0.33638188 89.30707 89.43854\n",
            "7 0.33525255 89.30707 89.43854\n",
            "8 0.33451793 89.30707 89.43854\n",
            "9 0.33401775 89.30707 89.43854\n",
            "10 0.3336612 89.30707 89.43854\n",
            "11 0.3333948 89.30707 89.43854\n",
            "12 0.3331863 89.30707 89.43854\n",
            "13 0.33301625 89.30707 89.43854\n",
            "14 0.33287218 89.30707 89.43854\n",
            "15 0.33274618 89.30707 89.43854\n",
            "16 0.3326335 89.30707 89.43854\n",
            "17 0.33253074 89.30707 89.43854\n",
            "18 0.33243558 89.30707 89.43854\n",
            "19 0.3323467 89.30707 89.43854\n"
          ],
          "name": "stdout"
        }
      ]
    },
    {
      "cell_type": "code",
      "metadata": {
        "id": "2t85YePtU4Ii",
        "colab": {
          "base_uri": "https://localhost:8080/",
          "height": 370
        },
        "outputId": "2b9e2280-5f09-45c6-a660-b4fe1d2c4118"
      },
      "source": [
        "theta\n",
        "\n",
        "plt.hist(logreg_pred(theta, X_test))"
      ],
      "execution_count": 15,
      "outputs": [
        {
          "output_type": "execute_result",
          "data": {
            "text/plain": [
              "(array([38702.,     0.,     0.,     0.,     0.,     0.,  1687.,  3074.,\n",
              "         1533.,   831.]),\n",
              " array([0.09075968, 0.10471921, 0.11867875, 0.13263828, 0.14659782,\n",
              "        0.16055734, 0.17451687, 0.18847641, 0.20243594, 0.21639548,\n",
              "        0.23035501], dtype=float32),\n",
              " <a list of 10 Patch objects>)"
            ]
          },
          "metadata": {
            "tags": []
          },
          "execution_count": 15
        },
        {
          "output_type": "display_data",
          "data": {
            "image/png": "[encoded data removed]",
            "text/plain": [
              "<Figure size 432x288 with 1 Axes>"
            ]
          },
          "metadata": {
            "tags": [],
            "needs_background": "light"
          }
        }
      ]
    },
    {
      "cell_type": "code",
      "metadata": {
        "id": "TYK2sk1AZfvG",
        "colab": {
          "base_uri": "https://localhost:8080/",
          "height": 283
        },
        "outputId": "31a29f00-7d35-442d-c57e-f3494fe461dc"
      },
      "source": [
        "iterations = range(epochs)\r\n",
        "plt.plot(iterations, train_loss)"
      ],
      "execution_count": 16,
      "outputs": [
        {
          "output_type": "execute_result",
          "data": {
            "text/plain": [
              "[<matplotlib.lines.Line2D at 0x7f6bb0041f60>]"
            ]
          },
          "metadata": {
            "tags": []
          },
          "execution_count": 16
        },
        {
          "output_type": "display_data",
          "data": {
            "image/png": "[encoded data removed]",
            "text/plain": [
              "<Figure size 432x288 with 1 Axes>"
            ]
          },
          "metadata": {
            "tags": [],
            "needs_background": "light"
          }
        }
      ]
    },
    {
      "cell_type": "code",
      "metadata": {
        "id": "w7K2fKkVhtWw",
        "colab": {
          "base_uri": "https://localhost:8080/"
        },
        "outputId": "f6c2fa17-56f5-41d3-fe01-910445b3129e"
      },
      "source": [
        "ypred = logreg_pred(theta, X_test)\r\n",
        "p = pd.DataFrame(np.around(ypred, decimals=4))\r\n",
        "p['pred'] = p[0].apply(lambda x : 0 if x < 0.5 else 1)\r\n",
        "print(classification_report(y_test , p['pred'].values))"
      ],
      "execution_count": 17,
      "outputs": [
        {
          "output_type": "stream",
          "text": [
            "              precision    recall  f1-score   support\n",
            "\n",
            "         0.0       0.89      1.00      0.94     40987\n",
            "         1.0       0.00      0.00      0.00      4840\n",
            "\n",
            "    accuracy                           0.89     45827\n",
            "   macro avg       0.45      0.50      0.47     45827\n",
            "weighted avg       0.80      0.89      0.84     45827\n",
            "\n"
          ],
          "name": "stdout"
        },
        {
          "output_type": "stream",
          "text": [
            "/usr/local/lib/python3.6/dist-packages/sklearn/metrics/_classification.py:1272: UndefinedMetricWarning: Precision and F-score are ill-defined and being set to 0.0 in labels with no predicted samples. Use `zero_division` parameter to control this behavior.\n",
            "  _warn_prf(average, modifier, msg_start, len(result))\n"
          ],
          "name": "stderr"
        }
      ]
    }
  ]
}